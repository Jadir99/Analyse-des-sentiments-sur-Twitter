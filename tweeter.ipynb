{
 "cells": [
  {
   "cell_type": "code",
   "execution_count": 34,
   "metadata": {},
   "outputs": [
    {
     "name": "stderr",
     "output_type": "stream",
     "text": [
      "C:\\Users\\hp\\AppData\\Local\\Temp\\ipykernel_17036\\898926764.py:4: DeprecationWarning: executable_path has been deprecated, please pass in a Service object\n",
      "  driver = webdriver.Edge(PATH)\n"
     ]
    }
   ],
   "source": [
    "#login to twitter \n",
    "\n",
    "PATH = \"C:/Users/hp/Downloads/edgedriver_win64/msedgedriver.exe\"\n",
    "driver = webdriver.Edge(PATH)\n",
    "\n",
    "url=\"https://twitter.com/search?q=%23palestine&src=typed_query&f=top\"\n",
    "driver.get(url)\n",
    "\n",
    "# Setup the log in\n",
    "sleep(3)\n",
    "username = driver.find_element(By.XPATH,\"//input[@name='text']\")\n",
    "username.send_keys(\"jadir99\")\n",
    "next_button = driver.find_element(By.XPATH,\"//span[contains(text(),'Next')]\")\n",
    "next_button.click()\n",
    "\n",
    "sleep(3)\n",
    "password = driver.find_element(By.XPATH,\"//input[@name='password']\")\n",
    "password.send_keys('jadir99jadir99')\n",
    "log_in = driver.find_element(By.XPATH,\"//span[contains(text(),'Log in')]\")\n",
    "log_in.click()"
   ]
  },
  {
   "cell_type": "code",
   "execution_count": 36,
   "metadata": {},
   "outputs": [],
   "source": [
    "import selenium\n",
    "from selenium import webdriver\n",
    "from selenium.webdriver.common.by import By\n",
    "from selenium.webdriver.common.keys import Keys\n",
    "from time import sleep\n",
    "from nltk.corpus import stopwords\n",
    "from nltk.tokenize import word_tokenize\n",
    "import time\n",
    "from selenium.common.exceptions import StaleElementReferenceException\n",
    "import pandas as pd"
   ]
  },
  {
   "cell_type": "code",
   "execution_count": 37,
   "metadata": {},
   "outputs": [
    {
     "ename": "KeyboardInterrupt",
     "evalue": "",
     "output_type": "error",
     "traceback": [
      "\u001b[1;31m---------------------------------------------------------------------------\u001b[0m",
      "\u001b[1;31mKeyboardInterrupt\u001b[0m                         Traceback (most recent call last)",
      "Cell \u001b[1;32mIn[37], line 35\u001b[0m\n\u001b[0;32m     33\u001b[0m \u001b[38;5;66;03m# Scroll down to the bottom of the page\u001b[39;00m\n\u001b[0;32m     34\u001b[0m driver\u001b[38;5;241m.\u001b[39mexecute_script(\u001b[38;5;124m'\u001b[39m\u001b[38;5;124mwindow.scrollTo(0,document.body.scrollHeight);\u001b[39m\u001b[38;5;124m'\u001b[39m)\n\u001b[1;32m---> 35\u001b[0m time\u001b[38;5;241m.\u001b[39msleep(\u001b[38;5;241m3\u001b[39m)  \u001b[38;5;66;03m# Wait for the page to load more articles\u001b[39;00m\n",
      "\u001b[1;31mKeyboardInterrupt\u001b[0m: "
     ]
    }
   ],
   "source": [
    "\n",
    "\n",
    "UserTags = []\n",
    "TimeStamps = []\n",
    "Tweets = []\n",
    "Replys = []\n",
    "reTweets = []\n",
    "Likes = []\n",
    "\n",
    "start_time = time.time()  # Get the start time\n",
    "\n",
    "while len(UserTags)<=900:\n",
    "    \n",
    "    # Find all the tweet article elements on the page\n",
    "    articles = driver.find_elements(By.XPATH, \"//article[@data-testid='tweet']\")\n",
    "    \n",
    "    # Extract data from each article\n",
    "    for article in articles:\n",
    "        try:\n",
    "            UserTag = article.find_element(By.XPATH, \".//span[@class='css-1qaijid r-bcqeeo r-qvutc0 r-poiln3']\").text\n",
    "            if UserTag not in UserTags:\n",
    "                UserTags.append(UserTag)\n",
    "\n",
    "            TimeStamp = article.find_element(By.XPATH, \".//time\").get_attribute('datetime')\n",
    "            if TimeStamp not in TimeStamps:\n",
    "                TimeStamps.append(TimeStamp)\n",
    "\n",
    "            Tweet = article.find_element(By.XPATH, \".//div[@data-testid='tweetText']\").text\n",
    "            if Tweet not in Tweets:\n",
    "                Tweets.append(Tweet)\n",
    "                \n",
    "        except StaleElementReferenceException:\n",
    "            continue\n",
    "\n",
    "    # Scroll down to the bottom of the page\n",
    "    driver.execute_script('window.scrollTo(0,document.body.scrollHeight);')\n",
    "    time.sleep(3)  # Wait for the page to load more articles\n"
   ]
  },
  {
   "cell_type": "code",
   "execution_count": 4,
   "metadata": {},
   "outputs": [],
   "source": [
    "# cleaning data :\n",
    "import nltk \n",
    "import pandas as pd \n",
    "# nltk.download('punkt')\n",
    "df=pd.read_excel(\"test.xlsx\")"
   ]
  },
  {
   "cell_type": "code",
   "execution_count": 31,
   "metadata": {},
   "outputs": [],
   "source": [
    "import string \n",
    " #function to remove all stop words :\n",
    "fr=stopwords.words('english')\n",
    "ang=stopwords.words('french')\n",
    "arabe=stopwords.words('arabic')\n",
    "\n",
    "def remove_stopWords(text):\n",
    "    # clean from stopword\n",
    "    word_token=word_tokenize(text)\n",
    "    clear_tweet = [w.translate(str.maketrans('', '', string.punctuation)) for w in text.split() if not w.lower() in fr and w.lower() not in ang]\n",
    "    # clean from hasthtags and @\n",
    "    return ' '.join(clear_tweet)    \n",
    "\n",
    "\n"
   ]
  },
  {
   "cell_type": "code",
   "execution_count": 33,
   "metadata": {},
   "outputs": [],
   "source": [
    "#function to clear data of each list \n",
    "def clear_data(list):\n",
    "    clear_tweets = []\n",
    "    for tweet in list:\n",
    "        clear_tweet = []\n",
    "        for word in tweet.split():\n",
    "            if word.startswith(\"#\") and len(word) > 1:\n",
    "                continue  # Skip hashtags\n",
    "            elif word.startswith(\"@\"):\n",
    "                continue  # Skip mentions\n",
    "            elif word.startswith(\"http\"):\n",
    "                continue\n",
    "            else:\n",
    "                # l'appelde fonction qui filtre par les ponctuation et les stops words \n",
    "                clear_tweet.append(remove_stopWords(word))\n",
    "        clear_tweets.append(\" \".join(clear_tweet))\n",
    "    return clear_tweets"
   ]
  },
  {
   "cell_type": "code",
   "execution_count": 38,
   "metadata": {},
   "outputs": [
    {
     "data": {
      "text/html": [
       "<div>\n",
       "<style scoped>\n",
       "    .dataframe tbody tr th:only-of-type {\n",
       "        vertical-align: middle;\n",
       "    }\n",
       "\n",
       "    .dataframe tbody tr th {\n",
       "        vertical-align: top;\n",
       "    }\n",
       "\n",
       "    .dataframe thead th {\n",
       "        text-align: right;\n",
       "    }\n",
       "</style>\n",
       "<table border=\"1\" class=\"dataframe\">\n",
       "  <thead>\n",
       "    <tr style=\"text-align: right;\">\n",
       "      <th></th>\n",
       "      <th>UserTags</th>\n",
       "      <th>time</th>\n",
       "      <th>Tweets</th>\n",
       "    </tr>\n",
       "  </thead>\n",
       "  <tbody>\n",
       "    <tr>\n",
       "      <th>0</th>\n",
       "      <td>Mick Wallace</td>\n",
       "      <td>20240418T163110000Z</td>\n",
       "      <td>stop talking</td>\n",
       "    </tr>\n",
       "    <tr>\n",
       "      <th>1</th>\n",
       "      <td>Syed Hasan Imam Zaidi</td>\n",
       "      <td>20240418T191836000Z</td>\n",
       "      <td>resistance detonates  huge explosive device  ...</td>\n",
       "    </tr>\n",
       "    <tr>\n",
       "      <th>2</th>\n",
       "      <td>Nazeefa Fatima</td>\n",
       "      <td>20240418T145632000Z</td>\n",
       "      <td>20 days old Whats  fault Israeli terrorists...</td>\n",
       "    </tr>\n",
       "    <tr>\n",
       "      <th>3</th>\n",
       "      <td>shahnawaz khan Shannu</td>\n",
       "      <td>20240415T005430000Z</td>\n",
       "      <td>silent</td>\n",
       "    </tr>\n",
       "    <tr>\n",
       "      <th>4</th>\n",
       "      <td>HylldaDanyella</td>\n",
       "      <td>20240418T171906000Z</td>\n",
       "      <td>never make  hate</td>\n",
       "    </tr>\n",
       "  </tbody>\n",
       "</table>\n",
       "</div>"
      ],
      "text/plain": [
       "                UserTags                 time  \\\n",
       "0           Mick Wallace  20240418T163110000Z   \n",
       "1  Syed Hasan Imam Zaidi  20240418T191836000Z   \n",
       "2         Nazeefa Fatima  20240418T145632000Z   \n",
       "3  shahnawaz khan Shannu  20240415T005430000Z   \n",
       "4         HylldaDanyella  20240418T171906000Z   \n",
       "\n",
       "                                              Tweets  \n",
       "0                                      stop talking   \n",
       "1   resistance detonates  huge explosive device  ...  \n",
       "2     20 days old Whats  fault Israeli terrorists...  \n",
       "3                                             silent  \n",
       "4                                 never make  hate    "
      ]
     },
     "execution_count": 38,
     "metadata": {},
     "output_type": "execute_result"
    }
   ],
   "source": [
    "df = pd.DataFrame(zip(clear_data(UserTags),TimeStamps,clear_data(Tweets))\n",
    "                  ,columns=['UserTags','time','Tweets'])\n",
    "df.to_excel(r\"twitter.xlsx\", index=False)\n",
    "df.head()"
   ]
  },
  {
   "cell_type": "code",
   "execution_count": null,
   "metadata": {},
   "outputs": [],
   "source": [
    "from textblob import TextBlob\n",
    "# analyse the sentiment :\n",
    "def get_tweet_sentiment(tweet):\n",
    "        # create TextBlob object of passed tweet text\n",
    "        analysis = TextBlob(tweet)\n",
    "        # set sentiment\n",
    "        if analysis.sentiment.polarity > 0:\n",
    "            return 'positive'\n",
    "        elif analysis.sentiment.polarity == 0:\n",
    "            return 'neutral'\n",
    "        else:\n",
    "            return 'negative'\n",
    "sentiments=[]\n",
    "for tweet in df['Tweets']:\n",
    "     sentiments.append(get_tweet_sentiment(tweet))\n",
    "df['sentiments']=sentiments"
   ]
  },
  {
   "cell_type": "code",
   "execution_count": 61,
   "metadata": {},
   "outputs": [
    {
     "data": {
      "image/png": "[encoded data removed]",
      "text/plain": [
       "<Figure size 640x480 with 1 Axes>"
      ]
     },
     "metadata": {},
     "output_type": "display_data"
    }
   ],
   "source": [
    "import matplotlib.pyplot as plt\n",
    "fig, ax=plt.subplots()\n",
    "sentiments=['negative','neutral','positive']\n",
    "counts=[len(df[df['sentiments'] == 'neutral']),len(df[df['sentiments'] == 'negative']),len(df[df['sentiments'] == 'positive'])]\n",
    "bar_labels=['red','green','blue']\n",
    "bar_colors=['tab:red','tab:green','tab:blue']\n",
    "ax.bar(sentiments,counts,label=bar_labels,color=bar_colors)\n",
    "plt.show()"
   ]
  },
  {
   "cell_type": "code",
   "execution_count": null,
   "metadata": {},
   "outputs": [],
   "source": []
  }
 ],
 "metadata": {
  "kernelspec": {
   "display_name": "Python 3",
   "language": "python",
   "name": "python3"
  },
  "language_info": {
   "codemirror_mode": {
    "name": "ipython",
    "version": 3
   },
   "file_extension": ".py",
   "mimetype": "text/x-python",
   "name": "python",
   "nbconvert_exporter": "python",
   "pygments_lexer": "ipython3",
   "version": "3.11.3"
  }
 },
 "nbformat": 4,
 "nbformat_minor": 2
}
