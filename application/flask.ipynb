{
 "cells": [
  {
   "cell_type": "code",
   "execution_count": 1,
   "metadata": {},
   "outputs": [],
   "source": [
    "import analyse_sentiment as an "
   ]
  },
  {
   "cell_type": "code",
   "execution_count": 2,
   "metadata": {},
   "outputs": [],
   "source": [
    "# test\n",
    "from flask import Flask ,render_template,request\n",
    "app=Flask(__name__)\n",
    "\n",
    "@app.route('/')\n",
    "def index():\n",
    "    return render_template('index.html')\n",
    "\n",
    "@app.route('/puthushtag')\n",
    "def gethashtag():\n",
    "    return render_template('analyse.html')\n",
    "\n",
    "@app.route('/result',methods=[\"POST\",\"GET\"])\n",
    "def insert_url():\n",
    "    # this is for geting the extract the name taht i will put in the url for searching\n",
    "    \n",
    "    path=an.login(request.form['hashtag'])\n",
    "    statistiques=an.clean_data(path)\n",
    "\n",
    "    return render_template('result.html', statistiques=statistiques)\n",
    "    # return render_template('result.html',liste=statistiques)\n",
    "\n"
   ]
  },
  {
   "cell_type": "code",
   "execution_count": 3,
   "metadata": {},
   "outputs": [
    {
     "name": "stdout",
     "output_type": "stream",
     "text": [
      " * Serving Flask app '__main__'\n",
      " * Debug mode: on\n"
     ]
    },
    {
     "name": "stderr",
     "output_type": "stream",
     "text": [
      "WARNING: This is a development server. Do not use it in a production deployment. Use a production WSGI server instead.\n",
      " * Running on http://127.0.0.1:5000\n",
      "Press CTRL+C to quit\n",
      "127.0.0.1 - - [06/May/2024 02:11:49] \"GET / HTTP/1.1\" 200 -\n",
      "127.0.0.1 - - [06/May/2024 02:11:49] \"GET /eel.js HTTP/1.1\" 404 -\n",
      "127.0.0.1 - - [06/May/2024 02:11:49] \"GET /static/ HTTP/1.1\" 404 -\n",
      "127.0.0.1 - - [06/May/2024 02:11:50] \"GET /static/css/responsive.css HTTP/1.1\" 304 -\n",
      "127.0.0.1 - - [06/May/2024 02:11:50] \"GET /static/css/style.css HTTP/1.1\" 304 -\n",
      "127.0.0.1 - - [06/May/2024 02:11:50] \"GET /static/vendor/css/core.css HTTP/1.1\" 304 -\n",
      "127.0.0.1 - - [06/May/2024 02:11:50] \"GET /static/vendor/css/theme-default.css HTTP/1.1\" 304 -\n",
      "127.0.0.1 - - [06/May/2024 02:11:50] \"GET /static/vendor/fonts/boxicons.css HTTP/1.1\" 304 -\n",
      "127.0.0.1 - - [06/May/2024 02:11:50] \"GET /static/vendor/libs/perfect-scrollbar/perfect-scrollbar.css HTTP/1.1\" 304 -\n",
      "127.0.0.1 - - [06/May/2024 02:11:50] \"GET /static/vendor/js/helpers.js HTTP/1.1\" 304 -\n",
      "127.0.0.1 - - [06/May/2024 02:11:50] \"GET /static/css/font-awesome.min.css HTTP/1.1\" 404 -\n",
      "127.0.0.1 - - [06/May/2024 02:11:50] \"GET /static/css/demo.css HTTP/1.1\" 304 -\n",
      "127.0.0.1 - - [06/May/2024 02:11:50] \"GET /static/js/config.js HTTP/1.1\" 304 -\n",
      "127.0.0.1 - - [06/May/2024 02:11:50] \"GET /static/css/owl.carousel.min.css HTTP/1.1\" 404 -\n",
      "127.0.0.1 - - [06/May/2024 02:11:50] \"GET /static/img/function.png HTTP/1.1\" 304 -\n",
      "127.0.0.1 - - [06/May/2024 02:11:50] \"GET /static/vendor/libs/jquery/jquery.js HTTP/1.1\" 304 -\n",
      "127.0.0.1 - - [06/May/2024 02:11:50] \"GET /static/vendor/libs/popper/popper.js HTTP/1.1\" 304 -\n",
      "127.0.0.1 - - [06/May/2024 02:11:50] \"GET /static/js/main.js HTTP/1.1\" 304 -\n",
      "127.0.0.1 - - [06/May/2024 02:11:50] \"GET /static/vendor/js/menu.js HTTP/1.1\" 304 -\n",
      "127.0.0.1 - - [06/May/2024 02:11:51] \"GET /static/vendor/libs/perfect-scrollbar/perfect-scrollbar.js HTTP/1.1\" 304 -\n",
      "127.0.0.1 - - [06/May/2024 02:11:51] \"GET /static/vendor/js/bootstrap.js HTTP/1.1\" 304 -\n",
      "127.0.0.1 - - [06/May/2024 02:11:51] \"GET /static/vendor/fonts/boxicons/boxicons.woff2 HTTP/1.1\" 304 -\n",
      "127.0.0.1 - - [06/May/2024 02:11:51] \"GET /static/img/function.png HTTP/1.1\" 304 -\n",
      "127.0.0.1 - - [06/May/2024 02:11:52] \"GET /puthushtag HTTP/1.1\" 200 -\n",
      "127.0.0.1 - - [06/May/2024 02:11:52] \"GET /static/vendor/fonts/boxicons.css HTTP/1.1\" 304 -\n",
      "127.0.0.1 - - [06/May/2024 02:11:52] \"GET /static/vendor/css/core.css HTTP/1.1\" 304 -\n",
      "127.0.0.1 - - [06/May/2024 02:11:52] \"GET /static/vendor/css/theme-default.css HTTP/1.1\" 304 -\n",
      "127.0.0.1 - - [06/May/2024 02:11:52] \"GET /static/css/demo.css HTTP/1.1\" 304 -\n",
      "127.0.0.1 - - [06/May/2024 02:11:52] \"GET /static/vendor/libs/perfect-scrollbar/perfect-scrollbar.css HTTP/1.1\" 304 -\n",
      "127.0.0.1 - - [06/May/2024 02:11:52] \"GET /eel.js HTTP/1.1\" 404 -\n",
      "127.0.0.1 - - [06/May/2024 02:11:52] \"GET /static/vendor/js/helpers.js HTTP/1.1\" 304 -\n",
      "127.0.0.1 - - [06/May/2024 02:11:52] \"GET /static/js/config.js HTTP/1.1\" 304 -\n",
      "127.0.0.1 - - [06/May/2024 02:11:52] \"GET /static/vendor/libs/jquery/jquery.js HTTP/1.1\" 304 -\n",
      "127.0.0.1 - - [06/May/2024 02:11:52] \"GET /static/img/function.png HTTP/1.1\" 304 -\n",
      "127.0.0.1 - - [06/May/2024 02:11:52] \"GET /static/vendor/libs/popper/popper.js HTTP/1.1\" 304 -\n",
      "127.0.0.1 - - [06/May/2024 02:11:53] \"GET /static/vendor/js/bootstrap.js HTTP/1.1\" 304 -\n",
      "127.0.0.1 - - [06/May/2024 02:11:53] \"GET /static/vendor/libs/perfect-scrollbar/perfect-scrollbar.js HTTP/1.1\" 304 -\n",
      "127.0.0.1 - - [06/May/2024 02:11:53] \"GET /static/vendor/js/menu.js HTTP/1.1\" 304 -\n",
      "127.0.0.1 - - [06/May/2024 02:11:53] \"GET /static/js/main.js HTTP/1.1\" 304 -\n",
      "127.0.0.1 - - [06/May/2024 02:11:53] \"GET /static/vendor/fonts/boxicons/boxicons.woff2 HTTP/1.1\" 304 -\n",
      "127.0.0.1 - - [06/May/2024 02:14:46] \"POST /result HTTP/1.1\" 200 -\n",
      "127.0.0.1 - - [06/May/2024 02:14:46] \"GET /eel.js HTTP/1.1\" 404 -\n",
      "127.0.0.1 - - [06/May/2024 02:14:46] \"GET /static/vendor/fonts/boxicons.css HTTP/1.1\" 304 -\n",
      "127.0.0.1 - - [06/May/2024 02:14:46] \"GET /static/vendor/css/core.css HTTP/1.1\" 304 -\n",
      "127.0.0.1 - - [06/May/2024 02:14:46] \"GET /static/vendor/css/theme-default.css HTTP/1.1\" 304 -\n",
      "127.0.0.1 - - [06/May/2024 02:14:46] \"GET /static/css/demo.css HTTP/1.1\" 304 -\n",
      "127.0.0.1 - - [06/May/2024 02:14:46] \"GET /static/vendor/libs/perfect-scrollbar/perfect-scrollbar.css HTTP/1.1\" 304 -\n",
      "127.0.0.1 - - [06/May/2024 02:14:46] \"GET /static/vendor/js/helpers.js HTTP/1.1\" 304 -\n",
      "127.0.0.1 - - [06/May/2024 02:14:46] \"GET /static/js/config.js HTTP/1.1\" 304 -\n",
      "127.0.0.1 - - [06/May/2024 02:14:46] \"GET /static/img/tweetsgithubwordcloud.png HTTP/1.1\" 200 -\n",
      "127.0.0.1 - - [06/May/2024 02:14:46] \"GET /static/img/function.png HTTP/1.1\" 304 -\n",
      "127.0.0.1 - - [06/May/2024 02:14:46] \"GET /static/img/tweetsgithubsentiments_bar_plot.png HTTP/1.1\" 200 -\n",
      "127.0.0.1 - - [06/May/2024 02:14:46] \"GET /static/vendor/libs/jquery/jquery.js HTTP/1.1\" 304 -\n",
      "127.0.0.1 - - [06/May/2024 02:14:46] \"GET /static/vendor/libs/popper/popper.js HTTP/1.1\" 304 -\n",
      "127.0.0.1 - - [06/May/2024 02:14:46] \"GET /static/vendor/js/bootstrap.js HTTP/1.1\" 304 -\n",
      "127.0.0.1 - - [06/May/2024 02:14:46] \"GET /static/vendor/libs/perfect-scrollbar/perfect-scrollbar.js HTTP/1.1\" 304 -\n",
      "127.0.0.1 - - [06/May/2024 02:14:46] \"GET /static/js/main.js HTTP/1.1\" 304 -\n",
      "127.0.0.1 - - [06/May/2024 02:14:46] \"GET /static/vendor/js/menu.js HTTP/1.1\" 304 -\n",
      "127.0.0.1 - - [06/May/2024 02:14:46] \"GET /static/vendor/fonts/boxicons/boxicons.woff2 HTTP/1.1\" 304 -\n"
     ]
    }
   ],
   "source": [
    "if __name__ == '__main__':\n",
    "    app.run(debug=True,port=5000,use_reloader=False)"
   ]
  }
 ],
 "metadata": {
  "kernelspec": {
   "display_name": "Python 3",
   "language": "python",
   "name": "python3"
  },
  "language_info": {
   "codemirror_mode": {
    "name": "ipython",
    "version": 3
   },
   "file_extension": ".py",
   "mimetype": "text/x-python",
   "name": "python",
   "nbconvert_exporter": "python",
   "pygments_lexer": "ipython3",
   "version": "3.11.3"
  }
 },
 "nbformat": 4,
 "nbformat_minor": 2
}
