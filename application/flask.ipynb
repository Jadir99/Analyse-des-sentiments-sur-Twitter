{
 "cells": [
  {
   "cell_type": "code",
   "execution_count": 1,
   "metadata": {},
   "outputs": [],
   "source": [
    "from flask import Flask ,render_template\n",
    "import pandas as pd\n",
    "import matplotlib.pyplot as plt\n",
    "from wordcloud import WordCloud\n",
    "import os\n",
    "from flask import request\n",
    "from selenium import webdriver\n",
    "from selenium.webdriver.common.by import By\n",
    "from selenium.webdriver.common.keys import Keys\n",
    "from time import sleep\n",
    "from nltk.corpus import stopwords\n",
    "from nltk.tokenize import word_tokenize\n",
    "import time\n",
    "from selenium.common.exceptions import StaleElementReferenceException\n",
    "from selenium.common.exceptions import NoSuchElementException\n",
    "import pandas as pd"
   ]
  },
  {
   "cell_type": "code",
   "execution_count": 2,
   "metadata": {},
   "outputs": [],
   "source": [
    "var=[]\n",
    "app= Flask(__name__)\n",
    "@app.route('/')\n",
    "def index():\n",
    "    return render_template('index.html')"
   ]
  },
  {
   "cell_type": "code",
   "execution_count": 3,
   "metadata": {},
   "outputs": [],
   "source": [
    "# app= Flask(__name__)\n",
    "\n",
    "# @app.route('/')\n",
    "# def all_twets():\n",
    "#     df=pd.read_csv(\"C:/Users/hp/OneDrive/Bureau/projet_dataprocessing/clear_tweets.csv\")\n",
    "#     return render_template('index.html',df=df.to_json(orient='records'))\n",
    "# # def index():\n",
    "# #     var='jadir mohammed  flask welcome '\n",
    "# #     return render_template('index.html',var=var)"
   ]
  },
  {
   "cell_type": "code",
   "execution_count": 4,
   "metadata": {},
   "outputs": [],
   "source": [
    "def login(hashtag):\n",
    "    PATH = \"C:/Users/hp/Downloads/edgedriver_win64/msedgedriver.exe\"\n",
    "    driver = webdriver.Edge(PATH)\n",
    "\n",
    "    url=\"https://twitter.com/search?q=%23\"+hashtag+\"&src=typed_query&f=top\"\n",
    "    print(url)\n",
    "    driver.get(url)\n",
    "\n",
    "    # Setup the log in\n",
    "    sleep(3)\n",
    "    username = driver.find_element(By.XPATH,\"//input[@name='text']\")\n",
    "    username.send_keys(\"jadir99\")\n",
    "    next_button = driver.find_element(By.XPATH,\"//span[contains(text(),'Next')]\")\n",
    "    next_button.click()\n",
    "\n",
    "    sleep(3)\n",
    "    password = driver.find_element(By.XPATH,\"//input[@name='password']\")\n",
    "    password.send_keys('jadir99jadir99')\n",
    "    log_in = driver.find_element(By.XPATH,\"//span[contains(text(),'Log in')]\")\n",
    "    log_in.click()\n",
    "    UserTags = []\n",
    "    TimeStamps = []\n",
    "    Tweets = []\n",
    "    Replys = []\n",
    "    reTweets = []\n",
    "    Likes = []\n",
    "\n",
    "    start_time = time.time()  # Get the start time\n",
    "\n",
    "    while len(UserTags)<=30:\n",
    "        \n",
    "        # Find all the tweet article elements on the page\n",
    "        articles = driver.find_elements(By.XPATH, \"//article[@data-testid='tweet']\")\n",
    "        # Extract data from each article\n",
    "        for article in articles:\n",
    "            try:\n",
    "                if(article.find_element(By.XPATH, \".//span[@class='css-1qaijid r-bcqeeo r-qvutc0 r-poiln3']\")):\n",
    "                    UserTag = article.find_element(By.XPATH, \".//span[@class='css-1qaijid r-bcqeeo r-qvutc0 r-poiln3']\").text\n",
    "                    if UserTag not in UserTags and UserTag is not None:\n",
    "                        UserTags.append(UserTag)\n",
    "                if(article.find_element(By.XPATH, \".//time\")):\n",
    "                    TimeStamp = article.find_element(By.XPATH, \".//time\").get_attribute('datetime')\n",
    "                    if TimeStamp not in TimeStamps and TimeStamp is not None:\n",
    "                        TimeStamps.append(TimeStamp)\n",
    "                if(article.find_element(By.XPATH, \".//time\")):\n",
    "                    Tweet = article.find_element(By.XPATH, \".//div[@data-testid='tweetText']\").text\n",
    "                    if Tweet not in Tweets and Tweet is not None:\n",
    "                        Tweets.append(Tweet)\n",
    "            except NoSuchElementException:\n",
    "                continue        \n",
    "            except StaleElementReferenceException:\n",
    "                continue\n",
    "\n",
    "        # Scroll down to the bottom of the page\n",
    "        driver.execute_script('window.scrollTo(0,document.body.scrollHeight);')\n",
    "        time.sleep(3)  # Wait for the page to load more articles\n",
    "        df = pd.DataFrame(zip(UserTags,TimeStamps,Tweets)\n",
    "                  ,columns=['UserTags','time','Tweets'])\n",
    "        df.to_csv(r\"tweets.csv\", index=False)"
   ]
  },
  {
   "cell_type": "code",
   "execution_count": 5,
   "metadata": {},
   "outputs": [],
   "source": [
    "@app.route('/store',methods=['GET',\"POST\"])\n",
    "def insert():\n",
    "    # if request.method=='POST':\n",
    "    #     var.append(request.form['hashtag'])\n",
    "    # return index()\n",
    "    login(request.form['hashtag'])\n",
    "    return index() \n",
    "    "
   ]
  },
  {
   "cell_type": "code",
   "execution_count": 7,
   "metadata": {},
   "outputs": [
    {
     "name": "stdout",
     "output_type": "stream",
     "text": [
      " * Serving Flask app '__main__'\n",
      " * Debug mode: on\n"
     ]
    },
    {
     "name": "stderr",
     "output_type": "stream",
     "text": [
      "WARNING: This is a development server. Do not use it in a production deployment. Use a production WSGI server instead.\n",
      " * Running on http://127.0.0.1:5000\n",
      "Press CTRL+C to quit\n",
      "127.0.0.1 - - [28/Apr/2024 19:01:49] \"GET / HTTP/1.1\" 200 -\n",
      "127.0.0.1 - - [28/Apr/2024 19:01:50] \"GET /alt=\"\" HTTP/1.1\" 404 -\n",
      "127.0.0.1 - - [28/Apr/2024 19:01:50] \"GET /favicon.ico HTTP/1.1\" 404 -\n",
      "C:\\Users\\hp\\AppData\\Local\\Temp\\ipykernel_19280\\1973041072.py:3: DeprecationWarning: executable_path has been deprecated, please pass in a Service object\n",
      "  driver = webdriver.Edge(PATH)\n"
     ]
    },
    {
     "name": "stdout",
     "output_type": "stream",
     "text": [
      "https://twitter.com/search?q=%23palestine&src=typed_query&f=top\n"
     ]
    },
    {
     "name": "stderr",
     "output_type": "stream",
     "text": [
      "127.0.0.1 - - [28/Apr/2024 19:03:32] \"POST /store HTTP/1.1\" 200 -\n",
      "127.0.0.1 - - [28/Apr/2024 19:03:32] \"GET /alt=\"\" HTTP/1.1\" 404 -\n"
     ]
    }
   ],
   "source": [
    "if __name__ == '__main__':\n",
    "    app.run(debug=True,port=5000,use_reloader=False)"
   ]
  }
 ],
 "metadata": {
  "kernelspec": {
   "display_name": "Python 3",
   "language": "python",
   "name": "python3"
  },
  "language_info": {
   "codemirror_mode": {
    "name": "ipython",
    "version": 3
   },
   "file_extension": ".py",
   "mimetype": "text/x-python",
   "name": "python",
   "nbconvert_exporter": "python",
   "pygments_lexer": "ipython3",
   "version": "3.11.3"
  }
 },
 "nbformat": 4,
 "nbformat_minor": 2
}
