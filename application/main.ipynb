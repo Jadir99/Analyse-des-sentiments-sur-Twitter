{
 "cells": [
  {
   "cell_type": "code",
   "execution_count": 1,
   "metadata": {},
   "outputs": [],
   "source": [
    "import analyse_sentiment as an "
   ]
  },
  {
   "cell_type": "code",
   "execution_count": 2,
   "metadata": {},
   "outputs": [],
   "source": [
    "# test\n",
    "from flask import Flask ,render_template,request\n",
    "app=Flask(__name__)\n",
    "\n",
    "@app.route('/')\n",
    "def index():\n",
    "    return render_template('index.html')\n",
    "\n",
    "@app.route('/puthushtag')\n",
    "def gethashtag():\n",
    "    return render_template('analyse.html')\n",
    "\n",
    "@app.route('/result',methods=[\"POST\",\"GET\"])\n",
    "def insert_url():\n",
    "    # this is for geting the extract the name taht i will put in the url for searching\n",
    "    \n",
    "    path=an.login(request.form['hashtag'])\n",
    "    statistiques=an.clean_data(path)\n",
    "\n",
    "    return render_template('result.html', statistiques=statistiques)\n",
    "\n",
    "\n",
    "# // voir la page pour insere le name d'utilisateur\n",
    "@app.route('/searchByName')\n",
    "def byuserame():\n",
    "    return render_template('byname.html',all=\"jadir\")\n",
    "\n",
    "@app.route('/result_byname',methods=[\"POST\",\"GET\"])\n",
    "def insert_name():\n",
    "    # this is for geting the extract the name taht i will put in the url for searching\n",
    "    \n",
    "    path=an.search_byname(request.form['username'])\n",
    "    statistiques=an.clean_data(path)\n",
    "\n",
    "    return render_template('result.html', statistiques=statistiques)\n",
    "    # return render_template('result.html',liste=statistiques)"
   ]
  },
  {
   "cell_type": "code",
   "execution_count": 3,
   "metadata": {},
   "outputs": [
    {
     "name": "stdout",
     "output_type": "stream",
     "text": [
      " * Serving Flask app '__main__'\n",
      " * Debug mode: on\n"
     ]
    },
    {
     "name": "stderr",
     "output_type": "stream",
     "text": [
      "WARNING: This is a development server. Do not use it in a production deployment. Use a production WSGI server instead.\n",
      " * Running on http://127.0.0.1:5000\n",
      "Press CTRL+C to quit\n"
     ]
    }
   ],
   "source": [
    "if __name__ == '__main__':\n",
    "    app.run(debug=True,port=5000,use_reloader=False)"
   ]
  }
 ],
 "metadata": {
  "kernelspec": {
   "display_name": "Python 3",
   "language": "python",
   "name": "python3"
  },
  "language_info": {
   "codemirror_mode": {
    "name": "ipython",
    "version": 3
   },
   "file_extension": ".py",
   "mimetype": "text/x-python",
   "name": "python",
   "nbconvert_exporter": "python",
   "pygments_lexer": "ipython3",
   "version": "3.11.3"
  }
 },
 "nbformat": 4,
 "nbformat_minor": 2
}
